{
 "cells": [
  {
   "cell_type": "code",
   "execution_count": 4,
   "metadata": {},
   "outputs": [
    {
     "data": {
      "text/plain": [
       "2"
      ]
     },
     "execution_count": 4,
     "metadata": {},
     "output_type": "execute_result"
    }
   ],
   "source": [
    "## 上采样测试\n",
    "import numpy as np\n",
    "\n",
    "scale_factor = 4\n",
    "num_upconvs = int(np.log2(scale_factor))\n",
    "num_upconvs"
   ]
  },
  {
   "cell_type": "code",
   "execution_count": 5,
   "metadata": {},
   "outputs": [],
   "source": [
    "nf = 64\n",
    "up_channels = None\n",
    "if up_channels is None:\n",
    "    up_channels = [nf] * 2 + [nf // 2] * (num_upconvs - 2)"
   ]
  },
  {
   "cell_type": "code",
   "execution_count": 6,
   "metadata": {},
   "outputs": [
    {
     "data": {
      "text/plain": [
       "[64, 64]"
      ]
     },
     "execution_count": 6,
     "metadata": {},
     "output_type": "execute_result"
    }
   ],
   "source": [
    "up_channels"
   ]
  },
  {
   "cell_type": "code",
   "execution_count": 7,
   "metadata": {},
   "outputs": [],
   "source": [
    "import torch"
   ]
  },
  {
   "cell_type": "code",
   "execution_count": 8,
   "metadata": {},
   "outputs": [],
   "source": [
    "num_manifolds = 24\n",
    "levels_start = 23\n",
    "levels_end = 8\n",
    "levels = torch.linspace(levels_start, levels_end, num_manifolds-1)"
   ]
  },
  {
   "cell_type": "code",
   "execution_count": 9,
   "metadata": {},
   "outputs": [
    {
     "data": {
      "text/plain": [
       "tensor([23.0000, 22.3182, 21.6364, 20.9545, 20.2727, 19.5909, 18.9091, 18.2273,\n",
       "        17.5455, 16.8636, 16.1818, 15.5000, 14.8182, 14.1364, 13.4545, 12.7727,\n",
       "        12.0909, 11.4091, 10.7273, 10.0455,  9.3636,  8.6818,  8.0000])"
      ]
     },
     "execution_count": 9,
     "metadata": {},
     "output_type": "execute_result"
    }
   ],
   "source": [
    "levels"
   ]
  },
  {
   "cell_type": "code",
   "execution_count": 10,
   "metadata": {},
   "outputs": [
    {
     "data": {
      "text/plain": [
       "tensor([0, 0, 0])"
      ]
     },
     "execution_count": 10,
     "metadata": {},
     "output_type": "execute_result"
    }
   ],
   "source": [
    "import torch\n",
    "\n",
    "center = (0, 0, 0)\n",
    "torch.tensor(center)"
   ]
  },
  {
   "cell_type": "code",
   "execution_count": 16,
   "metadata": {},
   "outputs": [
    {
     "data": {
      "text/plain": [
       "(torch.Size([256, 256]), torch.Size([256, 256]))"
      ]
     },
     "execution_count": 16,
     "metadata": {},
     "output_type": "execute_result"
    }
   ],
   "source": [
    "fov = 12\n",
    "HL = 256\n",
    "y, x = torch.meshgrid(torch.linspace(-fov/100, fov/100, HL), torch.linspace(-fov/100, fov/100, HL))\n",
    "y.shape, x.shape"
   ]
  },
  {
   "cell_type": "code",
   "execution_count": 17,
   "metadata": {},
   "outputs": [
    {
     "data": {
      "text/plain": [
       "(torch.Size([65536]), torch.Size([65536]))"
      ]
     },
     "execution_count": 17,
     "metadata": {},
     "output_type": "execute_result"
    }
   ],
   "source": [
    "x.reshape(-1).shape, y.reshape(-1).shape"
   ]
  },
  {
   "cell_type": "code",
   "execution_count": 18,
   "metadata": {},
   "outputs": [
    {
     "data": {
      "text/plain": [
       "torch.Size([4, 65536, 3])"
      ]
     },
     "execution_count": 18,
     "metadata": {},
     "output_type": "execute_result"
    }
   ],
   "source": [
    "B = 4\n",
    "grid_ray_o = torch.stack([x.reshape(-1), y.reshape(-1), torch.ones(HL*HL)], dim=-1).expand(B, -1, -1)\n",
    "grid_ray_o.shape"
   ]
  },
  {
   "cell_type": "code",
   "execution_count": 19,
   "metadata": {},
   "outputs": [
    {
     "name": "stdout",
     "output_type": "stream",
     "text": [
      "tensor([[1, 2],\n",
      "        [4, 3],\n",
      "        [5, 5]])\n"
     ]
    }
   ],
   "source": [
    "import torch\n",
    "\n",
    "# 示例张量\n",
    "t = torch.tensor([[1, 2], [3, 4], [5, 6]])\n",
    "\n",
    "# 索引张量\n",
    "index = torch.tensor([[0, 1], [1, 0], [0, 0]])\n",
    "\n",
    "# 沿着列（dim=1）根据索引选择数据\n",
    "result = torch.gather(t, 1, index)\n",
    "\n",
    "print(result)\n"
   ]
  },
  {
   "cell_type": "code",
   "execution_count": 25,
   "metadata": {},
   "outputs": [
    {
     "name": "stdout",
     "output_type": "stream",
     "text": [
      "shape: 1 , shape: 3\n"
     ]
    }
   ],
   "source": [
    "sigma = 1\n",
    "rgb = 3\n",
    "print(\"shape:\", sigma, \", shape:\", rgb)"
   ]
  },
  {
   "cell_type": "code",
   "execution_count": 2,
   "metadata": {},
   "outputs": [
    {
     "data": {
      "text/plain": [
       "['scale_mat_0',\n",
       " 'world_mat_0',\n",
       " 'scale_mat_1',\n",
       " 'world_mat_1',\n",
       " 'scale_mat_2',\n",
       " 'world_mat_2',\n",
       " 'scale_mat_3',\n",
       " 'world_mat_3',\n",
       " 'scale_mat_4',\n",
       " 'world_mat_4',\n",
       " 'scale_mat_5',\n",
       " 'world_mat_5',\n",
       " 'scale_mat_6',\n",
       " 'world_mat_6',\n",
       " 'scale_mat_7',\n",
       " 'world_mat_7',\n",
       " 'scale_mat_8',\n",
       " 'world_mat_8',\n",
       " 'scale_mat_9',\n",
       " 'world_mat_9',\n",
       " 'scale_mat_10',\n",
       " 'world_mat_10',\n",
       " 'scale_mat_11',\n",
       " 'world_mat_11',\n",
       " 'scale_mat_12',\n",
       " 'world_mat_12',\n",
       " 'scale_mat_13',\n",
       " 'world_mat_13',\n",
       " 'scale_mat_14',\n",
       " 'world_mat_14',\n",
       " 'scale_mat_15',\n",
       " 'world_mat_15',\n",
       " 'scale_mat_16',\n",
       " 'world_mat_16',\n",
       " 'scale_mat_17',\n",
       " 'world_mat_17',\n",
       " 'scale_mat_18',\n",
       " 'world_mat_18',\n",
       " 'scale_mat_19',\n",
       " 'world_mat_19',\n",
       " 'scale_mat_20',\n",
       " 'world_mat_20',\n",
       " 'scale_mat_21',\n",
       " 'world_mat_21',\n",
       " 'scale_mat_22',\n",
       " 'world_mat_22',\n",
       " 'scale_mat_23',\n",
       " 'world_mat_23',\n",
       " 'scale_mat_24',\n",
       " 'world_mat_24',\n",
       " 'scale_mat_25',\n",
       " 'world_mat_25',\n",
       " 'scale_mat_26',\n",
       " 'world_mat_26',\n",
       " 'scale_mat_27',\n",
       " 'world_mat_27',\n",
       " 'scale_mat_28',\n",
       " 'world_mat_28',\n",
       " 'scale_mat_29',\n",
       " 'world_mat_29',\n",
       " 'scale_mat_30',\n",
       " 'world_mat_30',\n",
       " 'scale_mat_31',\n",
       " 'world_mat_31',\n",
       " 'scale_mat_32',\n",
       " 'world_mat_32',\n",
       " 'scale_mat_33',\n",
       " 'world_mat_33',\n",
       " 'scale_mat_34',\n",
       " 'world_mat_34',\n",
       " 'scale_mat_35',\n",
       " 'world_mat_35',\n",
       " 'scale_mat_36',\n",
       " 'world_mat_36',\n",
       " 'scale_mat_37',\n",
       " 'world_mat_37',\n",
       " 'scale_mat_38',\n",
       " 'world_mat_38',\n",
       " 'scale_mat_39',\n",
       " 'world_mat_39',\n",
       " 'scale_mat_40',\n",
       " 'world_mat_40',\n",
       " 'scale_mat_41',\n",
       " 'world_mat_41',\n",
       " 'scale_mat_42',\n",
       " 'world_mat_42',\n",
       " 'scale_mat_43',\n",
       " 'world_mat_43',\n",
       " 'scale_mat_44',\n",
       " 'world_mat_44',\n",
       " 'scale_mat_45',\n",
       " 'world_mat_45',\n",
       " 'scale_mat_46',\n",
       " 'world_mat_46',\n",
       " 'scale_mat_47',\n",
       " 'world_mat_47',\n",
       " 'scale_mat_48',\n",
       " 'world_mat_48',\n",
       " 'scale_mat_49',\n",
       " 'world_mat_49',\n",
       " 'scale_mat_50',\n",
       " 'world_mat_50',\n",
       " 'scale_mat_51',\n",
       " 'world_mat_51',\n",
       " 'scale_mat_52',\n",
       " 'world_mat_52',\n",
       " 'scale_mat_53',\n",
       " 'world_mat_53',\n",
       " 'scale_mat_54',\n",
       " 'world_mat_54',\n",
       " 'scale_mat_55',\n",
       " 'world_mat_55',\n",
       " 'scale_mat_56',\n",
       " 'world_mat_56',\n",
       " 'scale_mat_57',\n",
       " 'world_mat_57',\n",
       " 'scale_mat_58',\n",
       " 'world_mat_58',\n",
       " 'scale_mat_59',\n",
       " 'world_mat_59',\n",
       " 'scale_mat_60',\n",
       " 'world_mat_60',\n",
       " 'scale_mat_61',\n",
       " 'world_mat_61',\n",
       " 'scale_mat_62',\n",
       " 'world_mat_62',\n",
       " 'scale_mat_63',\n",
       " 'world_mat_63',\n",
       " 'scale_mat_64',\n",
       " 'world_mat_64',\n",
       " 'scale_mat_65',\n",
       " 'world_mat_65',\n",
       " 'scale_mat_66',\n",
       " 'world_mat_66',\n",
       " 'scale_mat_67',\n",
       " 'world_mat_67',\n",
       " 'scale_mat_68',\n",
       " 'world_mat_68',\n",
       " 'scale_mat_69',\n",
       " 'world_mat_69',\n",
       " 'scale_mat_70',\n",
       " 'world_mat_70',\n",
       " 'scale_mat_71',\n",
       " 'world_mat_71',\n",
       " 'scale_mat_72',\n",
       " 'world_mat_72',\n",
       " 'scale_mat_73',\n",
       " 'world_mat_73',\n",
       " 'scale_mat_74',\n",
       " 'world_mat_74',\n",
       " 'scale_mat_75',\n",
       " 'world_mat_75',\n",
       " 'scale_mat_76',\n",
       " 'world_mat_76',\n",
       " 'scale_mat_77',\n",
       " 'world_mat_77',\n",
       " 'scale_mat_78',\n",
       " 'world_mat_78',\n",
       " 'scale_mat_79',\n",
       " 'world_mat_79',\n",
       " 'scale_mat_80',\n",
       " 'world_mat_80',\n",
       " 'scale_mat_81',\n",
       " 'world_mat_81',\n",
       " 'scale_mat_82',\n",
       " 'world_mat_82',\n",
       " 'scale_mat_83',\n",
       " 'world_mat_83',\n",
       " 'scale_mat_84',\n",
       " 'world_mat_84',\n",
       " 'scale_mat_85',\n",
       " 'world_mat_85',\n",
       " 'scale_mat_86',\n",
       " 'world_mat_86',\n",
       " 'scale_mat_87',\n",
       " 'world_mat_87',\n",
       " 'scale_mat_88',\n",
       " 'world_mat_88',\n",
       " 'scale_mat_89',\n",
       " 'world_mat_89',\n",
       " 'scale_mat_90',\n",
       " 'world_mat_90',\n",
       " 'scale_mat_91',\n",
       " 'world_mat_91',\n",
       " 'scale_mat_92',\n",
       " 'world_mat_92',\n",
       " 'scale_mat_93',\n",
       " 'world_mat_93',\n",
       " 'scale_mat_94',\n",
       " 'world_mat_94',\n",
       " 'scale_mat_95',\n",
       " 'world_mat_95',\n",
       " 'scale_mat_96',\n",
       " 'world_mat_96',\n",
       " 'scale_mat_97',\n",
       " 'world_mat_97',\n",
       " 'scale_mat_98',\n",
       " 'world_mat_98',\n",
       " 'scale_mat_99',\n",
       " 'world_mat_99',\n",
       " 'scale_mat_100',\n",
       " 'world_mat_100',\n",
       " 'scale_mat_101',\n",
       " 'world_mat_101',\n",
       " 'scale_mat_102',\n",
       " 'world_mat_102',\n",
       " 'scale_mat_103',\n",
       " 'world_mat_103',\n",
       " 'scale_mat_104',\n",
       " 'world_mat_104',\n",
       " 'scale_mat_105',\n",
       " 'world_mat_105',\n",
       " 'scale_mat_106',\n",
       " 'world_mat_106',\n",
       " 'scale_mat_107',\n",
       " 'world_mat_107',\n",
       " 'scale_mat_108',\n",
       " 'world_mat_108',\n",
       " 'scale_mat_109',\n",
       " 'world_mat_109',\n",
       " 'scale_mat_110',\n",
       " 'world_mat_110',\n",
       " 'scale_mat_111',\n",
       " 'world_mat_111',\n",
       " 'scale_mat_112',\n",
       " 'world_mat_112',\n",
       " 'scale_mat_113',\n",
       " 'world_mat_113',\n",
       " 'scale_mat_114',\n",
       " 'world_mat_114',\n",
       " 'scale_mat_115',\n",
       " 'world_mat_115',\n",
       " 'scale_mat_116',\n",
       " 'world_mat_116',\n",
       " 'scale_mat_117',\n",
       " 'world_mat_117',\n",
       " 'scale_mat_118',\n",
       " 'world_mat_118',\n",
       " 'scale_mat_119',\n",
       " 'world_mat_119',\n",
       " 'scale_mat_120',\n",
       " 'world_mat_120',\n",
       " 'scale_mat_121',\n",
       " 'world_mat_121',\n",
       " 'scale_mat_122',\n",
       " 'world_mat_122']"
      ]
     },
     "execution_count": 2,
     "metadata": {},
     "output_type": "execute_result"
    }
   ],
   "source": [
    "import numpy as np\n",
    "\n",
    "data = np.load(\"GRAM-HD/bmvs_data/bmvs_bear/cameras_sphere.npz\")\n",
    "data.files"
   ]
  },
  {
   "cell_type": "code",
   "execution_count": 5,
   "metadata": {},
   "outputs": [
    {
     "data": {
      "text/plain": [
       "array([[ 1.6737139,  0.       ,  0.       , -2.702419 ],\n",
       "       [ 0.       ,  1.6737139,  0.       , -1.3968586],\n",
       "       [ 0.       ,  0.       ,  1.6737139, 27.347609 ],\n",
       "       [ 0.       ,  0.       ,  0.       ,  1.       ]], dtype=float32)"
      ]
     },
     "execution_count": 5,
     "metadata": {},
     "output_type": "execute_result"
    }
   ],
   "source": [
    "scal = data['scale_mat_0']\n",
    "scal"
   ]
  },
  {
   "cell_type": "code",
   "execution_count": 7,
   "metadata": {},
   "outputs": [
    {
     "data": {
      "text/plain": [
       "array([[-1.0889766e+02,  3.2340955e+02,  6.2724188e+02, -1.6156446e+04],\n",
       "       [-4.8021997e+02, -3.6971255e+02,  2.8318774e+02, -8.9503633e+03],\n",
       "       [ 2.4123600e-01, -4.2752099e-01,  8.7122399e-01, -2.1731400e+01],\n",
       "       [ 0.0000000e+00,  0.0000000e+00,  0.0000000e+00,  1.0000000e+00]],\n",
       "      dtype=float32)"
      ]
     },
     "execution_count": 7,
     "metadata": {},
     "output_type": "execute_result"
    }
   ],
   "source": [
    "world = data['world_mat_0']\n",
    "world"
   ]
  },
  {
   "cell_type": "code",
   "execution_count": 8,
   "metadata": {},
   "outputs": [
    {
     "data": {
      "text/plain": [
       "array([[ 1.6737139,  0.       ,  0.       , -2.702419 ],\n",
       "       [ 0.       ,  1.6737139,  0.       , -1.3968586],\n",
       "       [ 0.       ,  0.       ,  1.6737139, 27.347609 ],\n",
       "       [ 0.       ,  0.       ,  0.       ,  1.       ]], dtype=float32)"
      ]
     },
     "execution_count": 8,
     "metadata": {},
     "output_type": "execute_result"
    }
   ],
   "source": [
    "data['scale_mat_1']"
   ]
  },
  {
   "cell_type": "code",
   "execution_count": 9,
   "metadata": {},
   "outputs": [
    {
     "data": {
      "text/plain": [
       "array([[ 6.0832639e+00,  2.4138771e+02,  6.7199725e+02, -1.7233209e+04],\n",
       "       [-5.5755878e+02, -2.6004559e+02,  2.6267581e+02, -8.5326475e+03],\n",
       "       [ 1.3378300e-01, -6.0538799e-01,  7.8460699e-01, -2.0310301e+01],\n",
       "       [ 0.0000000e+00,  0.0000000e+00,  0.0000000e+00,  1.0000000e+00]],\n",
       "      dtype=float32)"
      ]
     },
     "execution_count": 9,
     "metadata": {},
     "output_type": "execute_result"
    }
   ],
   "source": [
    "data['world_mat_1']"
   ]
  },
  {
   "cell_type": "code",
   "execution_count": 10,
   "metadata": {},
   "outputs": [
    {
     "data": {
      "text/plain": [
       "array([[ 1.6737139,  0.       ,  0.       , -2.702419 ],\n",
       "       [ 0.       ,  1.6737139,  0.       , -1.3968586],\n",
       "       [ 0.       ,  0.       ,  1.6737139, 27.347609 ],\n",
       "       [ 0.       ,  0.       ,  0.       ,  1.       ]], dtype=float32)"
      ]
     },
     "execution_count": 10,
     "metadata": {},
     "output_type": "execute_result"
    }
   ],
   "source": [
    "data['scale_mat_8']"
   ]
  },
  {
   "cell_type": "code",
   "execution_count": 11,
   "metadata": {},
   "outputs": [
    {
     "data": {
      "text/plain": [
       "array([[ 1.6737139,  0.       ,  0.       , -2.702419 ],\n",
       "       [ 0.       ,  1.6737139,  0.       , -1.3968586],\n",
       "       [ 0.       ,  0.       ,  1.6737139, 27.347609 ],\n",
       "       [ 0.       ,  0.       ,  0.       ,  1.       ]], dtype=float32)"
      ]
     },
     "execution_count": 11,
     "metadata": {},
     "output_type": "execute_result"
    }
   ],
   "source": [
    "data['scale_mat_122']"
   ]
  },
  {
   "cell_type": "code",
   "execution_count": null,
   "metadata": {},
   "outputs": [],
   "source": []
  }
 ],
 "metadata": {
  "kernelspec": {
   "display_name": "gram",
   "language": "python",
   "name": "python3"
  },
  "language_info": {
   "codemirror_mode": {
    "name": "ipython",
    "version": 3
   },
   "file_extension": ".py",
   "mimetype": "text/x-python",
   "name": "python",
   "nbconvert_exporter": "python",
   "pygments_lexer": "ipython3",
   "version": "3.8.19"
  },
  "orig_nbformat": 4
 },
 "nbformat": 4,
 "nbformat_minor": 2
}
